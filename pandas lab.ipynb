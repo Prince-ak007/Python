{
 "cells": [
  {
   "cell_type": "code",
   "execution_count": null,
   "id": "eea837b8-0ec2-4b02-9b54-03379da58640",
   "metadata": {},
   "outputs": [],
   "source": [
    "import pandas as pd\n",
    "data = pd.read_csv(\"titanic.csv\")\n",
    "data"
   ]
  },
  {
   "cell_type": "markdown",
   "id": "ddc8f5c6-ac84-4652-8d24-5225f0ce944c",
   "metadata": {},
   "source": [
    " # print only the Name colum "
   ]
  },
  {
   "cell_type": "code",
   "execution_count": null,
   "id": "54d93920-0ada-4ce7-8cb6-47050e5c098b",
   "metadata": {},
   "outputs": [],
   "source": [
    "data[\"Name\"]\n",
    "# or data[\"Name\"]"
   ]
  },
  {
   "cell_type": "markdown",
   "id": "51bbd409-0864-4013-9eeb-c7c39f65f536",
   "metadata": {},
   "source": [
    "# Find min and max Fare  "
   ]
  },
  {
   "cell_type": "code",
   "execution_count": null,
   "id": "40d96139-4652-41db-8e53-25f02cfa7417",
   "metadata": {},
   "outputs": [],
   "source": [
    "value = data[\"Fare\"]\n",
    "print(min(value))\n",
    "print(max(value))\n",
    "print(sum(value))\n"
   ]
  },
  {
   "cell_type": "markdown",
   "id": "12a3b421-9c87-4131-bbef-60ea8a6a81be",
   "metadata": {},
   "source": [
    "# find data of PassengerId  500 "
   ]
  },
  {
   "cell_type": "code",
   "execution_count": null,
   "id": "07c7b43d-edbb-4cf7-b257-2a4be1f17746",
   "metadata": {},
   "outputs": [],
   "source": [
    "pid = data[data[\"PassengerId\"] == 500]\n",
    "print(pid)\n",
    "pid[\"Fare\"]\n",
    "\n",
    "\n"
   ]
  },
  {
   "cell_type": "markdown",
   "id": "b25dccde-d467-4ef5-a2e4-ccd760e00d94",
   "metadata": {},
   "source": [
    "# TO find max Fare"
   ]
  },
  {
   "cell_type": "code",
   "execution_count": null,
   "id": "342773fd-2a65-4064-80e2-bbfbdb42cdcd",
   "metadata": {},
   "outputs": [],
   "source": [
    "data[data.Fare == data.Fare.max()]\n",
    "# or\n",
    "# data[data[\"Fare\"] == data[\"Fare\"].max()]"
   ]
  },
  {
   "cell_type": "markdown",
   "id": "d6df5256-4b65-444c-9e91-61f4e97364b5",
   "metadata": {},
   "source": [
    "# find total & avg Fare of passangers "
   ]
  },
  {
   "cell_type": "code",
   "execution_count": null,
   "id": "0ffab302-0a5f-4899-8613-ed56aa29ad93",
   "metadata": {},
   "outputs": [],
   "source": [
    "print(data[\"Fare\"].sum())\n",
    "\n",
    "print(data[\"Fare\"].mean())\n"
   ]
  },
  {
   "cell_type": "code",
   "execution_count": null,
   "id": "0a282b5b-15c1-49e5-a4de-8edce5773def",
   "metadata": {},
   "outputs": [],
   "source": [
    "# print full name if passanger id 255 and gender together \n",
    "\n",
    "name = data[data[\"PassengerId\"] == 255].Name\n",
    "gender = data[data[\"PassengerId\"] == 255].Sex\n",
    "\n",
    "print(name + \" \" +  gender)"
   ]
  },
  {
   "cell_type": "code",
   "execution_count": null,
   "id": "b9199d70-b60a-4d05-9041-15d212a1b038",
   "metadata": {},
   "outputs": [],
   "source": [
    "data[data[\"PassengerId\"] == 255]"
   ]
  },
  {
   "cell_type": "code",
   "execution_count": null,
   "id": "3b6fc5a7-a475-408b-add5-6a36acb5b52e",
   "metadata": {},
   "outputs": [],
   "source": [
    "# # convrt Fare into list\n",
    "\n",
    "# list = data.Fare.to_list()\n",
    "\n",
    "# # convrt Fare into dictionary\n",
    "# data.Fare.to_dict()\n"
   ]
  },
  {
   "cell_type": "markdown",
   "id": "20d45fd0-33d1-483d-ba3a-007edcce240d",
   "metadata": {},
   "source": [
    "# changes in data"
   ]
  },
  {
   "cell_type": "code",
   "execution_count": null,
   "id": "193b4810-d8f1-44b6-b11b-e607f7865316",
   "metadata": {},
   "outputs": [],
   "source": [
    "# change the Fare of PassengerId 500 to 879\n",
    "\n",
    "output = data.loc[data[\"PassengerId\"] == 500, \"Fare\"] = 879\n"
   ]
  },
  {
   "cell_type": "code",
   "execution_count": null,
   "id": "1f590ff3-cfe4-43ee-b71c-b791afa313c5",
   "metadata": {},
   "outputs": [],
   "source": [
    "# remove the data of Mr. William Henry\n",
    "\n",
    "data.drop(4)  # here 4 in index number ( - _ - )"
   ]
  },
  {
   "cell_type": "code",
   "execution_count": null,
   "id": "f75aabcf-0b75-4ceb-ba17-ea9dd5c2633a",
   "metadata": {},
   "outputs": [],
   "source": [
    "# to find index number \n",
    "\n",
    "index_number = data.index[data[\"PassengerId\"] ==  4 ].values[0]\n",
    "# print(index_number)\n",
    "data.drop(index_number)\n"
   ]
  },
  {
   "cell_type": "code",
   "execution_count": null,
   "id": "f48105ee-84b7-4735-baa3-a71269e7b62a",
   "metadata": {},
   "outputs": [],
   "source": []
  },
  {
   "cell_type": "code",
   "execution_count": null,
   "id": "5497d86b-7480-4667-8475-7326e7b7a2dd",
   "metadata": {},
   "outputs": [],
   "source": [
    "#sort the Fare data whith min to max (Ascending order)\n",
    "# data.sort_values(by=\"Fare\", ascending=True )\n",
    "data[\"Fare\"].sort_values(ascending=True)"
   ]
  },
  {
   "cell_type": "markdown",
   "id": "70abd3fb-0e19-4a58-9ed0-a812f5a0c9a7",
   "metadata": {},
   "source": [
    "# add a new column \"bonus\" with value 10% of fare"
   ]
  },
  {
   "cell_type": "code",
   "execution_count": null,
   "id": "2da2c2b1-c333-4563-9576-50bba71fcf68",
   "metadata": {},
   "outputs": [],
   "source": [
    "data = data[\"bouns\"] = data.Fare * 0.1\n",
    "print(data)"
   ]
  },
  {
   "cell_type": "markdown",
   "id": "563b3aba-277f-4a7f-bd86-aa5d46ff9736",
   "metadata": {},
   "source": [
    "# DROP the \"salary\" column "
   ]
  },
  {
   "cell_type": "code",
   "execution_count": null,
   "id": "03a29850-3ccc-4ffd-9bba-e1b8c7a75106",
   "metadata": {},
   "outputs": [],
   "source": [
    "data = data.drop(\"bonus\", axis = 1)\n"
   ]
  },
  {
   "cell_type": "code",
   "execution_count": null,
   "id": "a6cc143e-d0ef-43c8-8257-685b31b6d335",
   "metadata": {},
   "outputs": [],
   "source": [
    "data.to_csv(\"new_titanic\")"
   ]
  }
 ],
 "metadata": {
  "kernelspec": {
   "display_name": "Python 3 (ipykernel)",
   "language": "python",
   "name": "python3"
  },
  "language_info": {
   "codemirror_mode": {
    "name": "ipython",
    "version": 3
   },
   "file_extension": ".py",
   "mimetype": "text/x-python",
   "name": "python",
   "nbconvert_exporter": "python",
   "pygments_lexer": "ipython3",
   "version": "3.11.5"
  }
 },
 "nbformat": 4,
 "nbformat_minor": 5
}
